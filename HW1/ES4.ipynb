{
 "cells": [
  {
   "cell_type": "code",
   "execution_count": 1,
   "metadata": {},
   "outputs": [],
   "source": [
    "import numpy as np"
   ]
  },
  {
   "cell_type": "code",
   "execution_count": 2,
   "metadata": {},
   "outputs": [
    {
     "name": "stdout",
     "output_type": "stream",
     "text": [
      "[[4 3 2 1]\n",
      " [3 1 4 2]]\n",
      "[[4 3 2]\n",
      " [3 1 5]\n",
      " [1 4 7]\n",
      " [5 2 6]\n",
      " [3 4 2]]\n"
     ]
    }
   ],
   "source": [
    "#defin matrix A \n",
    "# 4 3 2 1\n",
    "# 3 1 4 2\n",
    "\n",
    "A = np.array([[4,3,2,1],[3,1,4,2]])\n",
    "print(A)\n",
    "\n",
    "#defin matrix B\n",
    "# 4 3 2\n",
    "# 3 1 5\n",
    "# 1 4 7\n",
    "# 5 2 6\n",
    "# 3 4 2\n",
    "\n",
    "B = np.array([[4,3,2],[3,1,5],[1,4,7],[5,2,6],[3,4,2]])\n",
    "print(B)"
   ]
  },
  {
   "cell_type": "code",
   "execution_count": 3,
   "metadata": {},
   "outputs": [
    {
     "name": "stdout",
     "output_type": "stream",
     "text": [
      "U of A\n",
      "[[ 0.70710678 -0.70710678]\n",
      " [ 0.70710678  0.70710678]]\n",
      "S of A\n",
      "[[7.41619849 0.        ]\n",
      " [0.         2.23606798]]\n",
      "VT of A\n",
      "[[ 0.66742381  0.38138504  0.57207755  0.28603878]\n",
      " [-0.31622777 -0.63245553  0.63245553  0.31622777]\n",
      " [-0.60302269  0.60302269  0.44120908 -0.27939546]\n",
      " [-0.30151134  0.30151134 -0.27939546  0.86030227]]\n",
      "U of A is orthogonal\n",
      "VT of A is orthogonal\n",
      "U of B\n",
      "[[-0.34257033  0.58307731  0.09625668 -0.38316715 -0.62175881]\n",
      " [-0.4064537  -0.17291495 -0.44522011 -0.66625951  0.40345153]\n",
      " [-0.53578801 -0.63122898  0.51385337  0.01149083 -0.22428522]\n",
      " [-0.56226218  0.0866505  -0.52728265  0.62645945 -0.07664528]\n",
      " [-0.33798434  0.47345849  0.50044123  0.12921969  0.62806408]]\n",
      "S of B\n",
      "[[13.98490244  0.          0.        ]\n",
      " [ 0.          4.18231663  0.        ]\n",
      " [ 0.          0.          3.30616567]]\n",
      "VT of B\n",
      "[[-0.49701415 -0.43287956 -0.75205866]\n",
      " [ 0.72590472  0.26744412 -0.63366867]\n",
      " [-0.47543588  0.86086522 -0.1813058 ]]\n",
      "U of B is orthogonal\n",
      "VT of B is orthogonal\n"
     ]
    }
   ],
   "source": [
    "#SVD decomposition of A\n",
    "Ua, sa, VTa = np.linalg.svd(A)\n",
    "#cast U and VT to matrix\n",
    "Ua = np.matrix(Ua)\n",
    "VTa = np.matrix(VTa)\n",
    "#cast sa to diagonal matrix\n",
    "sa = np.diag(sa)\n",
    "#print all matrices\n",
    "print(\"U of A\")\n",
    "print(Ua)\n",
    "print(\"S of A\")\n",
    "print(sa)\n",
    "print(\"VT of A\")\n",
    "print(VTa)\n",
    "\n",
    "#check if U and VT are orthogonal\n",
    "if np.allclose(Ua.T, Ua.I):\n",
    "    print(\"U of A is orthogonal\")\n",
    "else:\n",
    "    print(\"U of A is not orthogonal\")\n",
    "if np.allclose(VTa, VTa.T.I):\n",
    "    print(\"VT of A is orthogonal\")\n",
    "else:\n",
    "    print(\"VT of A is not orthogonal\")\n",
    "\n",
    "\n",
    "\n",
    "\n",
    "#SVD decomposition of B\n",
    "Ub, sb, VTb = np.linalg.svd(B)\n",
    "#cast U and VT to matrix\n",
    "Ub = np.matrix(Ub)\n",
    "VTb = np.matrix(VTb)\n",
    "#cast sa to diagonal matrix\n",
    "sb = np.diag(sb)\n",
    "#print all matrices\n",
    "print(\"U of B\")\n",
    "print(Ub)\n",
    "print(\"S of B\")\n",
    "print(sb)\n",
    "print(\"VT of B\")\n",
    "print(VTb)\n",
    "\n",
    "\n",
    "\n",
    "#check if U and VT are orthogonal\n",
    "if np.allclose(Ub.T, Ub.I):\n",
    "    print(\"U of B is orthogonal\")\n",
    "else:\n",
    "    print(\"U of B is not orthogonal\")\n",
    "if np.allclose(VTb, VTb.T.I):\n",
    "    print(\"VT of B is orthogonal\")\n",
    "else:\n",
    "    print(\"VT of B is not orthogonal\")\n",
    "\n"
   ]
  },
  {
   "cell_type": "code",
   "execution_count": 4,
   "metadata": {},
   "outputs": [
    {
     "name": "stdout",
     "output_type": "stream",
     "text": [
      "U of A economy size\n",
      "[[ 0.70710678 -0.70710678]\n",
      " [ 0.70710678  0.70710678]]\n",
      "VT of A economy size\n",
      "[[ 0.66742381  0.38138504  0.57207755  0.28603878]\n",
      " [-0.31622777 -0.63245553  0.63245553  0.31622777]]\n",
      "U of B economy size\n",
      "[[-0.34257033  0.58307731  0.09625668]\n",
      " [-0.4064537  -0.17291495 -0.44522011]\n",
      " [-0.53578801 -0.63122898  0.51385337]\n",
      " [-0.56226218  0.0866505  -0.52728265]\n",
      " [-0.33798434  0.47345849  0.50044123]]\n",
      "VT of B economy size\n",
      "[[-0.49701415 -0.43287956 -0.75205866]\n",
      " [ 0.72590472  0.26744412 -0.63366867]\n",
      " [-0.47543588  0.86086522 -0.1813058 ]]\n"
     ]
    }
   ],
   "source": [
    "#SVD decomposition of A economy size\n",
    "Uae, sae, VTae = np.linalg.svd(A, full_matrices=False)\n",
    "#cast U and VT to matrix\n",
    "Uae = np.matrix(Uae)\n",
    "VTae = np.matrix(VTae)\n",
    "#cast sa to diagonal matrix\n",
    "sae = np.diag(sae)\n",
    "#print Uae, sae, VTae\n",
    "print(\"U of A economy size\")\n",
    "print(Uae)\n",
    "print(\"VT of A economy size\")\n",
    "print(VTae)\n",
    "\n",
    "#SVD decomposition of B economy size   \n",
    "Ube, sbe, VTbe = np.linalg.svd(B, full_matrices=False)\n",
    "#cast U and VT to matrix\n",
    "Ube = np.matrix(Ube)\n",
    "VTbe = np.matrix(VTbe)\n",
    "#cast sa to diagonal matrix\n",
    "sbe = np.diag(sbe)\n",
    "#print Ube, sbe, VTbe\n",
    "print(\"U of B economy size\")\n",
    "print(Ube)\n",
    "print(\"VT of B economy size\")\n",
    "print(VTbe)\n"
   ]
  },
  {
   "cell_type": "code",
   "execution_count": 5,
   "metadata": {},
   "outputs": [
    {
     "name": "stdout",
     "output_type": "stream",
     "text": [
      "rank of A\n",
      "2\n"
     ]
    }
   ],
   "source": [
    "#calculate the rank of A\n",
    "rankA = np.linalg.matrix_rank(A)\n",
    "print(\"rank of A\")\n",
    "print(rankA)\n",
    "\n",
    "\n"
   ]
  },
  {
   "cell_type": "code",
   "execution_count": 6,
   "metadata": {},
   "outputs": [
    {
     "name": "stdout",
     "output_type": "stream",
     "text": [
      "lower approximation of A rank 1\n",
      "[[5.24404424]\n",
      " [5.24404424]]\n",
      "lower approximation of A rank 2\n",
      "[[ 5.24404424 -1.58113883]\n",
      " [ 5.24404424  1.58113883]]\n",
      "lower approximation of B rank 1\n",
      "[[4.79081258]\n",
      " [5.68421529]\n",
      " [7.49294299]\n",
      " [7.8631818 ]\n",
      " [4.72667799]]\n",
      "lower approximation of B rank 2\n",
      "[[ 4.79081258 -2.43861391]\n",
      " [ 5.68421529  0.72318506]\n",
      " [ 7.49294299  2.63999946]\n",
      " [ 7.8631818  -0.36239983]\n",
      " [ 4.72667799 -1.98015332]]\n"
     ]
    }
   ],
   "source": [
    "from sklearn.decomposition import TruncatedSVD\n",
    "#calculate the truncated SVD of A\n",
    "\n",
    "def rank(rank, matrix):\n",
    "    svd = TruncatedSVD(rank)\n",
    "    svd.fit(matrix)\n",
    "    matrix_transformed = svd.transform(matrix)\n",
    "    return matrix_transformed\n",
    "\n",
    "\n",
    "print(\"lower approximation of A rank 1\")\n",
    "print(rank(1,A))\n",
    "print(\"lower approximation of A rank 2\")\n",
    "print(rank(2,A))\n",
    "\n",
    "print(\"lower approximation of B rank 1\")\n",
    "print(rank(1,B))\n",
    "print(\"lower approximation of B rank 2\")\n",
    "print(rank(2,B))\n",
    "\n"
   ]
  },
  {
   "cell_type": "code",
   "execution_count": 7,
   "metadata": {},
   "outputs": [
    {
     "name": "stdout",
     "output_type": "stream",
     "text": [
      "l1 norm of Matrix A\n",
      "7.0\n",
      "l2 norm of Matrix A\n",
      "7.416198487095664\n",
      "l_inf norm of Matrix A\n",
      "10.0\n",
      "frobenius norm of Matrix A\n",
      "7.745966692414834\n",
      "nuclear norm of Matrix A\n",
      "9.652266464595453\n",
      "l1 norm of Matrix B\n",
      "22.0\n",
      "l2 norm of Matrix B\n",
      "13.984902437006962\n",
      "l_inf norm of Matrix B\n",
      "13.0\n",
      "frobenius norm of Matrix B\n",
      "14.966629547095765\n",
      "nuclear norm of Matrix B\n",
      "21.47338473715689\n"
     ]
    }
   ],
   "source": [
    "#calculate the l1, l2, l_inf,frobenius,nuclear norm of A\n",
    "def norms(matrix,name):\n",
    "    l1 = np.linalg.norm(matrix, ord=1)\n",
    "    l2 = np.linalg.norm(matrix, ord=2)\n",
    "    l_inf = np.linalg.norm(matrix, ord=np.inf)\n",
    "    frobenius = np.linalg.norm(matrix, ord='fro')\n",
    "    nuclear = np.linalg.norm(matrix, ord='nuc')\n",
    "    print(\"l1 norm of Matrix \" + name)\n",
    "    print(l1)\n",
    "    print(\"l2 norm of Matrix \" + name)\n",
    "    print(l2)\n",
    "    print(\"l_inf norm of Matrix \" + name)\n",
    "    print(l_inf)\n",
    "    print(\"frobenius norm of Matrix \" + name)\n",
    "    print(frobenius)\n",
    "    print(\"nuclear norm of Matrix \" + name)\n",
    "    print(nuclear)\n",
    "\n",
    "norms(A,\"A\")\n",
    "norms(B,\"B\")\n",
    "\n",
    "\n"
   ]
  },
  {
   "cell_type": "code",
   "execution_count": 8,
   "metadata": {},
   "outputs": [
    {
     "name": "stdout",
     "output_type": "stream",
     "text": [
      "condition number of A\n",
      "3.3166247903554003\n",
      "condition number of B\n",
      "4.229946052622944\n"
     ]
    }
   ],
   "source": [
    "    #calculate the condition number of A\n",
    "    def cond(matrix):\n",
    "        return  np.linalg.cond(matrix)\n",
    "\n",
    "    print(\"condition number of A\")\n",
    "    print(cond(A))\n",
    "    print(\"condition number of B\")\n",
    "    print(cond(B))"
   ]
  }
 ],
 "metadata": {
  "kernelspec": {
   "display_name": "base",
   "language": "python",
   "name": "python3"
  },
  "language_info": {
   "codemirror_mode": {
    "name": "ipython",
    "version": 3
   },
   "file_extension": ".py",
   "mimetype": "text/x-python",
   "name": "python",
   "nbconvert_exporter": "python",
   "pygments_lexer": "ipython3",
   "version": "3.11.4"
  }
 },
 "nbformat": 4,
 "nbformat_minor": 2
}
