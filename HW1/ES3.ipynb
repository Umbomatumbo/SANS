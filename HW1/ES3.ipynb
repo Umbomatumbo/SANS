{
 "cells": [
  {
   "cell_type": "code",
   "execution_count": 4,
   "metadata": {},
   "outputs": [
    {
     "name": "stdout",
     "output_type": "stream",
     "text": [
      "trace of A is  11\n",
      "trace of B is  10\n",
      "trace of A+B is  21\n",
      "trace of AB is  35\n",
      "trace of BA is  35\n"
     ]
    }
   ],
   "source": [
    "\n",
    "from sympy import * \n",
    "A = Matrix([[4,3,2,1],[1,2,1,3],[3,1,0,2],[2,3,4,5]])\n",
    "\n",
    "B = Matrix([[5,0,2,-1],[0,2,0,-1],[2,0,1,0],[-1,-1,0,2]])\n",
    "\n",
    "#compute trace of A and B\n",
    "traceA = A.trace()\n",
    "traceB = B.trace()\n",
    "print(\"trace of A is \", traceA)\n",
    "print(\"trace of B is \", traceB)\n",
    "#compute trace A+B\n",
    "traceAB = (A+B).trace()\n",
    "print(\"trace of A+B is \", traceAB)\n",
    "#compute trace AB\n",
    "traceAB = (A*B).trace()\n",
    "print(\"trace of AB is \", traceAB)\n",
    "#compute trace BA\n",
    "traceBA = (B*A).trace()\n",
    "print(\"trace of BA is \", traceBA)\n",
    "\n",
    "\n",
    "\n",
    "\n"
   ]
  },
  {
   "cell_type": "code",
   "execution_count": 5,
   "metadata": {},
   "outputs": [
    {
     "name": "stdout",
     "output_type": "stream",
     "text": [
      "Matrix([[20, 0, 4, -1], [0, 4, 0, -3], [6, 0, 0, 0], [-2, -3, 0, 10]])\n"
     ]
    }
   ],
   "source": [
    "#compute the hadamard product of A and B\n",
    "hadamardAB = hadamard_product(A,B)\n",
    "print(hadamardAB)\n"
   ]
  },
  {
   "cell_type": "code",
   "execution_count": 6,
   "metadata": {},
   "outputs": [
    {
     "name": "stdout",
     "output_type": "stream",
     "text": [
      "Matrix([[x1*(1.0*x1 + 1.0*x2 - 1.0*x3) + x2*(1.0*x1 + 2.0*x2) + x3*(-1.0*x1 - 4.0*x3)]]) Matrix([[2*x1 + 2*x2 - x3]]) 3\n",
      "P is not positive definite\n"
     ]
    }
   ],
   "source": [
    "# Write in matricial form the following quadratic function: f(x)=x1^2+2*(x2)^2-4(x3)^2+2(x1*x2)-2(x1*x3)+2(x1)+2(x2)-(x3)+3.\n",
    "# Write the quadratic function in matrix form\n",
    "x1, x2, x3 = symbols('x1 x2 x3')\n",
    "x = Matrix([x1,x2,x3])\n",
    "P= Matrix([[2,2,-2],[2,4,0],[-2,0,-8]])\n",
    "f = (1/2)*x.T*P*x\n",
    "b = Matrix([2,2,-1])\n",
    "c = 3\n",
    "\n",
    "\n",
    "print(f,b.T*x,c)\n",
    "\n",
    "# chek if Q is positive definite\n",
    "if P.is_positive_definite:\n",
    "    print(\"P is positive definite\")\n",
    "else:\n",
    "    print(\"P is not positive definite\")\n",
    "\n",
    "\n"
   ]
  }
 ],
 "metadata": {
  "kernelspec": {
   "display_name": "base",
   "language": "python",
   "name": "python3"
  },
  "language_info": {
   "codemirror_mode": {
    "name": "ipython",
    "version": 3
   },
   "file_extension": ".py",
   "mimetype": "text/x-python",
   "name": "python",
   "nbconvert_exporter": "python",
   "pygments_lexer": "ipython3",
   "version": "3.11.4"
  }
 },
 "nbformat": 4,
 "nbformat_minor": 2
}
